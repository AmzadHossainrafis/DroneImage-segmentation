{
 "cells": [
  {
   "cell_type": "code",
   "execution_count": 15,
   "metadata": {},
   "outputs": [],
   "source": [
    "import yaml \n",
    "def read_yaml(yaml_path):\n",
    "    \"\"\"\n",
    "    Read yaml file and return a dictionary\n",
    "    \"\"\"\n",
    "    with open(yaml_path, \"r\") as yaml_file:\n",
    "        yaml_dict = yaml.load(yaml_file, Loader=yaml.FullLoader)\n",
    "    return yaml_dict\n",
    "\n",
    "\n",
    "\n",
    "\n",
    "config = read_yaml(r\"../config\\config.yaml\") "
   ]
  },
  {
   "cell_type": "code",
   "execution_count": 18,
   "metadata": {},
   "outputs": [
    {
     "data": {
      "text/plain": [
       "{'root': '/home/username/Projects/ProjectName',\n",
       " 'data_path': 'C:\\\\Users\\\\Amzad\\\\Desktop\\\\camvid-segmentation\\\\dataset\\\\CamVid',\n",
       " 'train_path': 'C:\\\\Users\\\\Amzad\\\\Desktop\\\\camvid-segmentation\\\\dataset\\\\CamVid\\\\train',\n",
       " 'val_path': 'C:\\\\Users\\\\Amzad\\\\Desktop\\\\camvid-segmentation\\\\dataset\\\\CamVid\\\\val',\n",
       " 'test_path': 'C:\\\\Users\\\\Amzad\\\\Desktop\\\\camvid-segmentation\\\\dataset\\\\CamVid\\\\test'}"
      ]
     },
     "execution_count": 18,
     "metadata": {},
     "output_type": "execute_result"
    }
   ],
   "source": [
    "config['dir']"
   ]
  },
  {
   "cell_type": "code",
   "execution_count": null,
   "metadata": {},
   "outputs": [],
   "source": []
  }
 ],
 "metadata": {
  "kernelspec": {
   "display_name": "myenv",
   "language": "python",
   "name": "python3"
  },
  "language_info": {
   "codemirror_mode": {
    "name": "ipython",
    "version": 3
   },
   "file_extension": ".py",
   "mimetype": "text/x-python",
   "name": "python",
   "nbconvert_exporter": "python",
   "pygments_lexer": "ipython3",
   "version": "3.10.13"
  }
 },
 "nbformat": 4,
 "nbformat_minor": 2
}
